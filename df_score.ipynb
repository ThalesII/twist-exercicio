{
 "cells": [
  {
   "cell_type": "markdown",
   "metadata": {},
   "source": [
    "# Qualidade de dados\n",
    "\n",
    "Primeiramente os módulos necessários são importados e configurados:"
   ]
  },
  {
   "cell_type": "code",
   "execution_count": 1,
   "metadata": {
    "collapsed": true
   },
   "outputs": [],
   "source": [
    "import math as m\n",
    "import pandas as pd\n",
    "import statsmodels.imputation.mice\n",
    "\n",
    "pd.options.display.precision = 2\n",
    "pd.options.display.max_rows = 6"
   ]
  },
  {
   "cell_type": "markdown",
   "metadata": {},
   "source": [
    "Além disso, os intervalos de validade são inicializados de acordo com a formulação do problema:"
   ]
  },
  {
   "cell_type": "code",
   "execution_count": 2,
   "metadata": {},
   "outputs": [],
   "source": [
    "integrity_limits = {\n",
    "    'A': (10,100),\n",
    "    'B': (1,2),\n",
    "    'C': (1,2),\n",
    "    'D': (1,2),\n",
    "    'E': (2,7),\n",
    "    'F': (1,8),\n",
    "    'G': (1,2),\n",
    "    'H': (0,7),\n",
    "    'I': (1,7),\n",
    "    'J': (1,4),\n",
    "    'K': (2,8),\n",
    "    'L': (0,1),\n",
    "    'M': (0,3),\n",
    "    'N': (0,3),\n",
    "    'O': (0,1),\n",
    "    'P': (0,2),\n",
    "    'Q': (0,1),\n",
    "    'R': (0,2),\n",
    "    'S': (0,4),\n",
    "    'T': (0,4),\n",
    "    'U': (0,4),\n",
    "    'V': (1,9),\n",
    "    'W': (1,13),\n",
    "    'X': (1,5),\n",
    "    'Y': (1,2),\n",
    "    'Z': (1,2),\n",
    "}"
   ]
  },
  {
   "cell_type": "markdown",
   "metadata": {},
   "source": [
    "Por fim, a base de dados é carregada a partir do arquivo de entrada:"
   ]
  },
  {
   "cell_type": "code",
   "execution_count": 3,
   "metadata": {
    "collapsed": true
   },
   "outputs": [],
   "source": [
    "df = pd.read_excel('twist_database.xlsx')"
   ]
  },
  {
   "cell_type": "markdown",
   "metadata": {},
   "source": [
    "Definimos as funções de avaliação para a base de dados. As dimensões analisadas são:\n",
    "\n",
    "* **Completude**: Avalia a presença do dado. Neste quesito, valores _N/A_ recebem 0. Outros valores recebem 10.\n",
    "* **Acurácia**: Valores que se encontram dentro do intervalo esperado recebem 10. Caso contrário, recebem 0.\n",
    "* **Integridade**: Para a base analisada equivale à completude (dados presentes são sempre íntegros).\n",
    "\n",
    "Como as três dimensões são sempre usadas em conjunto, as funções retornam a nota agregada para cada registro."
   ]
  },
  {
   "cell_type": "code",
   "execution_count": 4,
   "metadata": {},
   "outputs": [],
   "source": [
    "def score(x, xmin, xmax):\n",
    "    \"\"\"Calcula nota agregada para um único registro\"\"\"\n",
    "    if pd.isna(x):\n",
    "        comp  = 0\n",
    "        acc   = 0\n",
    "        integ = 0\n",
    "    else:\n",
    "        comp  = 10\n",
    "        acc   = 10 if xmin <= x <= xmax else 0\n",
    "        integ = 10\n",
    "    \n",
    "    # Nota agregada é a média das três dimensões\n",
    "    return (comp + acc + integ) / 3\n",
    "\n",
    "\n",
    "def column_score(column):\n",
    "    \"\"\"Calcula nota agregada para uma coluna\"\"\"\n",
    "    xmin, xmax = integrity_limits[column.name]\n",
    "    return column.apply(lambda x: score(x, xmin, xmax))\n",
    "\n",
    "\n",
    "def df_score(df):\n",
    "    \"\"\"Calcula nota agregada para um dataframe\"\"\"\n",
    "    return df.apply(column_score)"
   ]
  },
  {
   "cell_type": "markdown",
   "metadata": {},
   "source": [
    "A partir das funções definidas, podemos calcular as notas para a base de dados. Sobre estas notas são geradas três visões diferentes:\n",
    "\n",
    "* **Gerencial**: Nota única para a base de dados como um todo. Calculada como a média entre todos os registros da base.\n",
    "* **Especialista**: Uma nota para cada variável na base. Média entre os registros de uma coluna.\n",
    "* **Analista**: Uma nota para cada item na base. Média entre os registros de um índice."
   ]
  },
  {
   "cell_type": "code",
   "execution_count": 5,
   "metadata": {
    "scrolled": false
   },
   "outputs": [
    {
     "name": "stdout",
     "output_type": "stream",
     "text": [
      "Visão Gerencial:\n",
      "9.05086848635\n",
      "\n",
      "Visão Especialista:\n",
      "A    10.00\n",
      "B    10.00\n",
      "C     9.84\n",
      "     ...  \n",
      "X     8.39\n",
      "Y     9.52\n",
      "Z     9.35\n",
      "Length: 26, dtype: float64\n",
      "\n",
      "Visão Analista:\n",
      "0     10.00\n",
      "1     10.00\n",
      "2      8.85\n",
      "      ...  \n",
      "59    10.00\n",
      "60    10.00\n",
      "61    10.00\n",
      "Length: 62, dtype: float64\n",
      "\n"
     ]
    }
   ],
   "source": [
    "scores = df_score(df)\n",
    "column_mean = scores.mean(0)    # Visão especialista\n",
    "index_mean  = scores.mean(1)    # Visão analista\n",
    "total_mean  = index_mean.mean() # Visão gerencial\n",
    "\n",
    "print('Visão Gerencial:',    total_mean,  sep='\\n', end='\\n\\n')\n",
    "print('Visão Especialista:', column_mean, sep='\\n', end='\\n\\n')\n",
    "print('Visão Analista:',     index_mean,  sep='\\n', end='\\n\\n')"
   ]
  },
  {
   "cell_type": "markdown",
   "metadata": {},
   "source": [
    "Afim de melhor a avaliação da base, pode ser feita a imputação de dados. O código abaixo preenche as lacunas na base a partir dos valores observados. Em seguida, os valores médios de cada variável antes e depois da imputação são listados:"
   ]
  },
  {
   "cell_type": "code",
   "execution_count": 9,
   "metadata": {},
   "outputs": [
    {
     "name": "stderr",
     "output_type": "stream",
     "text": [
      "/usr/local/lib/python3.5/dist-packages/pandas/core/indexing.py:194: SettingWithCopyWarning: \n",
      "A value is trying to be set on a copy of a slice from a DataFrame\n",
      "\n",
      "See the caveats in the documentation: http://pandas.pydata.org/pandas-docs/stable/indexing.html#indexing-view-versus-copy\n",
      "  self._setitem_with_indexer(indexer, value)\n"
     ]
    },
    {
     "name": "stdout",
     "output_type": "stream",
     "text": [
      "Médias:\n",
      "     Antes   Depois\n",
      "A    48.71    48.71\n",
      "B     1.16     1.16\n",
      "C     1.95     1.95\n",
      "D     1.45     1.45\n",
      "E     3.29     3.27\n",
      "F     2.73     2.79\n",
      "G     1.94     1.94\n",
      "H     2.27     2.24\n",
      "I     3.39     3.29\n",
      "J     2.33     2.37\n",
      "K     3.93     3.89\n",
      "L     0.17     0.21\n",
      "M     0.32     0.27\n",
      "N     1.13     1.13\n",
      "O     0.09     0.10\n",
      "P     0.30     0.32\n",
      "Q     0.49     0.53\n",
      "R     0.53     0.53\n",
      "S     0.72     0.69\n",
      "T     1.04     1.00\n",
      "U     1.47     1.45\n",
      "V     3.24     3.18\n",
      "W     4.64     4.63\n",
      "X     1.94     1.95\n",
      "Y     1.97     1.97\n",
      "Z     1.97     1.97\n"
     ]
    }
   ],
   "source": [
    "imp = statsmodels.imputation.mice.MICEData(df)\n",
    "imp.update_all()\n",
    "\n",
    "df2 = imp.data\n",
    "\n",
    "print('Médias:')\n",
    "print('     Antes   Depois')\n",
    "for c in df.columns:\n",
    "    mean_before = df[c].mean()\n",
    "    mean_after = df2[c].mean()\n",
    "    print('{} {:8.2f} {:8.2f}'.format(c, mean_before, mean_after))"
   ]
  },
  {
   "cell_type": "markdown",
   "metadata": {},
   "source": [
    "Observa-se que o valor médio das variáveis não foi considerávelmente alterado após o procedimento de imputação."
   ]
  }
 ],
 "metadata": {
  "kernelspec": {
   "display_name": "Python 3",
   "language": "python",
   "name": "python3"
  },
  "language_info": {
   "codemirror_mode": {
    "name": "ipython",
    "version": 3
   },
   "file_extension": ".py",
   "mimetype": "text/x-python",
   "name": "python",
   "nbconvert_exporter": "python",
   "pygments_lexer": "ipython3",
   "version": "3.5.2"
  }
 },
 "nbformat": 4,
 "nbformat_minor": 2
}
